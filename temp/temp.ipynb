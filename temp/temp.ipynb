{
 "cells": [
  {
   "cell_type": "code",
   "execution_count": 1,
   "metadata": {},
   "outputs": [
    {
     "data": {
      "text/plain": [
       "'cleaned_processed.csv'"
      ]
     },
     "execution_count": 1,
     "metadata": {},
     "output_type": "execute_result"
    }
   ],
   "source": [
    "import pandas as pd\n",
    "\n",
    "# Load the dataset\n",
    "file_path = 'processed.csv'\n",
    "df = pd.read_csv(file_path)\n",
    "\n",
    "# Process the Value Date column to ensure it is in datetime format\n",
    "df['Value Date'] = pd.to_datetime(df['Value Date'], errors='coerce')\n",
    "\n",
    "# Function to extract the word after the third '/' in Description\n",
    "def extract_word_after_third_slash(description):\n",
    "    parts = description.split('/')\n",
    "    if len(parts) > 3:\n",
    "        return parts[3]\n",
    "    return \"\"\n",
    "\n",
    "# Apply the function to the Description column\n",
    "df['Extracted Word'] = df['Description'].apply(extract_word_after_third_slash)\n",
    "\n",
    "# Convert Credit, Balance, and Debit to float\n",
    "df['Credit'] = pd.to_numeric(df['Credit'], errors='coerce')\n",
    "df['Balance'] = pd.to_numeric(df['Balance'], errors='coerce')\n",
    "df['Debit'] = pd.to_numeric(df['Debit'], errors='coerce')\n",
    "\n",
    "# Save the cleaned dataset to a new CSV file\n",
    "cleaned_file_path = 'cleaned_processed.csv'\n",
    "df.to_csv(cleaned_file_path, index=False)\n",
    "\n",
    "cleaned_file_path"
   ]
  },
  {
   "cell_type": "code",
   "execution_count": null,
   "metadata": {},
   "outputs": [],
   "source": []
  }
 ],
 "metadata": {
  "kernelspec": {
   "display_name": "Python 3",
   "language": "python",
   "name": "python3"
  },
  "language_info": {
   "codemirror_mode": {
    "name": "ipython",
    "version": 3
   },
   "file_extension": ".py",
   "mimetype": "text/x-python",
   "name": "python",
   "nbconvert_exporter": "python",
   "pygments_lexer": "ipython3",
   "version": "3.11.5"
  }
 },
 "nbformat": 4,
 "nbformat_minor": 2
}
